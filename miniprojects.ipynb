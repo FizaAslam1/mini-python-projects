{
  "cells": [
    {
      "cell_type": "markdown",
      "source": [
        "Quiz  game with score tracking"
      ],
      "metadata": {
        "id": "AKPwMA9NJXoI"
      }
    },
    {
      "cell_type": "code",
      "source": [
        "questions = [\n",
        "    {\"q\": \"What is the capital of France?\", \"a\": \"paris\"},\n",
        "    {\"q\": \"What is 5 + 7?\", \"a\": \"12\"},\n",
        "    {\"q\": \"Who wrote Hamlet?\", \"a\": \"shakespeare\"},\n",
        "]\n",
        "\n",
        "score = 0\n",
        "for q in questions:\n",
        "    ans = input(q[\"q\"] + \" \").lower()\n",
        "    if ans == q[\"a\"]:\n",
        "        print(\"Correct!\\n\")\n",
        "        score += 1\n",
        "    else:\n",
        "        print(\"Wrong! Answer is\", q[\"a\"], \"\\n\")\n",
        "\n",
        "print(\"Your final score is:\", score, \"/\", len(questions))\n"
      ],
      "metadata": {
        "colab": {
          "base_uri": "https://localhost:8080/"
        },
        "id": "SKOvhEmkJVdt",
        "outputId": "f36c585c-4a53-42f3-ac95-7ab333b3cd09"
      },
      "execution_count": 1,
      "outputs": [
        {
          "output_type": "stream",
          "name": "stdout",
          "text": [
            "What is the capital of France? paris\n",
            "Correct!\n",
            "\n",
            "What is 5 + 7? 4\n",
            "Wrong! Answer is 12 \n",
            "\n",
            "Who wrote Hamlet? dsa\n",
            "Wrong! Answer is shakespeare \n",
            "\n",
            "Your final score is: 1 / 3\n"
          ]
        }
      ]
    },
    {
      "cell_type": "markdown",
      "source": [
        "contact book\n"
      ],
      "metadata": {
        "id": "u5M1Lp3WJyGK"
      }
    },
    {
      "cell_type": "code",
      "source": [
        "# Initialize an empty dictionary to hold contacts\n",
        "contacts = {}\n",
        "\n",
        "# Function to load contacts from file when program starts\n",
        "def load_contacts():\n",
        "    try:\n",
        "        with open(\"contacts.txt\", \"r\") as f:\n",
        "            for line in f:\n",
        "                name, phone = line.strip().split(\":\")\n",
        "                contacts[name] = phone\n",
        "    except FileNotFoundError:\n",
        "        pass  # If file not found, just continue\n",
        "\n",
        "# Function to add a new contact\n",
        "def add_contact():\n",
        "    name = input(\"Enter name: \")\n",
        "    phone = input(\"Enter phone number: \")\n",
        "    contacts[name] = phone\n",
        "    print(f\"✅ Contact for {name} added.\")\n",
        "\n",
        "# Function to search a contact by name\n",
        "def search_contact():\n",
        "    name = input(\"Enter name to search: \")\n",
        "    if name in contacts:\n",
        "        print(f\"🔍 {name} - {contacts[name]}\")\n",
        "    else:\n",
        "        print(\"❌ Contact not found.\")\n",
        "\n",
        "# Function to save contacts to file when exiting\n",
        "def save_contacts():\n",
        "    with open(\"contacts.txt\", \"w\") as f:\n",
        "        for name, phone in contacts.items():\n",
        "            f.write(f\"{name}:{phone}\\n\")\n",
        "    print(\"💾 Contacts saved to file.\")\n",
        "\n",
        "# Load existing contacts from file\n",
        "load_contacts()\n",
        "\n",
        "# Main menu loop\n",
        "while True:\n",
        "    print(\"\\n📱 Contact Book Menu:\")\n",
        "    print(\"1. Add Contact\")\n",
        "    print(\"2. Search Contact\")\n",
        "    print(\"3. Show All Contacts\")\n",
        "    print(\"4. Save & Exit\")\n",
        "\n",
        "    choice = input(\"Choose an option (1-4): \")\n",
        "\n",
        "    if choice == \"1\":\n",
        "        add_contact()\n",
        "    elif choice == \"2\":\n",
        "        search_contact()\n",
        "    elif choice == \"3\":\n",
        "        print(\"\\nAll Contacts:\")\n",
        "        for name, phone in contacts.items():\n",
        "            print(f\"{name} - {phone}\")\n",
        "    elif choice == \"4\":\n",
        "        save_contacts()\n",
        "        break\n",
        "    else:\n",
        "        print(\"⚠️ Invalid option. Try again.\")\n"
      ],
      "metadata": {
        "colab": {
          "base_uri": "https://localhost:8080/"
        },
        "id": "5mcgpRIiJVwA",
        "outputId": "c1712b98-6352-4466-c492-40fef3c5df41"
      },
      "execution_count": 3,
      "outputs": [
        {
          "output_type": "stream",
          "name": "stdout",
          "text": [
            "\n",
            "📱 Contact Book Menu:\n",
            "1. Add Contact\n",
            "2. Search Contact\n",
            "3. Show All Contacts\n",
            "4. Save & Exit\n",
            "Choose an option (1-4): Add contact\n",
            "⚠️ Invalid option. Try again.\n",
            "\n",
            "📱 Contact Book Menu:\n",
            "1. Add Contact\n",
            "2. Search Contact\n",
            "3. Show All Contacts\n",
            "4. Save & Exit\n",
            "Choose an option (1-4): 1\n",
            "Enter name: fiza\n",
            "Enter phone number: 03829212892`\n",
            "✅ Contact for fiza added.\n",
            "\n",
            "📱 Contact Book Menu:\n",
            "1. Add Contact\n",
            "2. Search Contact\n",
            "3. Show All Contacts\n",
            "4. Save & Exit\n",
            "Choose an option (1-4): 4\n",
            "💾 Contacts saved to file.\n"
          ]
        }
      ]
    },
    {
      "cell_type": "markdown",
      "source": [
        "daily task manager"
      ],
      "metadata": {
        "id": "idQ-FI2_LKgV"
      }
    },
    {
      "cell_type": "code",
      "source": [
        "import os\n",
        "\n",
        "# Global task list\n",
        "tasks = []\n",
        "\n",
        "# 🟢 Load tasks from file\n",
        "def load_tasks():\n",
        "    if os.path.exists(\"tasks.txt\"):\n",
        "        with open(\"tasks.txt\", \"r\") as f:\n",
        "            for line in f:\n",
        "                task, status = line.strip().split(\"|\")\n",
        "                tasks.append({\"task\": task, \"status\": status})\n",
        "\n",
        "# 🔴 Save tasks to file\n",
        "def save_tasks():\n",
        "    with open(\"tasks.txt\", \"w\") as f:\n",
        "        for t in tasks:\n",
        "            f.write(f\"{t['task']}|{t['status']}\\n\")\n",
        "\n",
        "# ➕ Add task\n",
        "def add_task():\n",
        "    task = input(\"Enter task: \")\n",
        "    tasks.append({\"task\": task, \"status\": \"Pending\"})\n",
        "    print(\"Task added!\")\n",
        "\n",
        "# 📄 View tasks\n",
        "def view_tasks():\n",
        "    if not tasks:\n",
        "        print(\"No tasks yet.\")\n",
        "        return\n",
        "    for idx, t in enumerate(tasks, 1):\n",
        "        print(f\"{idx}. {t['task']} - {t['status']}\")\n",
        "\n",
        "# ✅ Mark as completed\n",
        "def complete_task():\n",
        "    view_tasks()\n",
        "    num = int(input(\"Enter task number to mark as completed: \"))\n",
        "    if 0 < num <= len(tasks):\n",
        "        tasks[num - 1][\"status\"] = \"Completed\"\n",
        "        print(\"Task marked as completed!\")\n",
        "    else:\n",
        "        print(\"Invalid task number.\")\n",
        "\n",
        "# ❌ Delete task\n",
        "def delete_task():\n",
        "    view_tasks()\n",
        "    num = int(input(\"Enter task number to delete: \"))\n",
        "    if 0 < num <= len(tasks):\n",
        "        removed = tasks.pop(num - 1)\n",
        "        print(f\"Deleted: {removed['task']}\")\n",
        "    else:\n",
        "        print(\"Invalid task number.\")\n",
        "\n",
        "# 🧠 Main program loop\n",
        "def task_manager():\n",
        "    load_tasks()\n",
        "    while True:\n",
        "        print(\"\\n--- DAILY TASK MANAGER ---\")\n",
        "        print(\"1. Add Task\")\n",
        "        print(\"2. View Tasks\")\n",
        "        print(\"3. Mark Task as Completed\")\n",
        "        print(\"4. Delete Task\")\n",
        "        print(\"5. Exit\")\n",
        "\n",
        "        choice = input(\"Choose option: \")\n",
        "\n",
        "        if choice == \"1\":\n",
        "            add_task()\n",
        "        elif choice == \"2\":\n",
        "            view_tasks()\n",
        "        elif choice == \"3\":\n",
        "            complete_task()\n",
        "        elif choice == \"4\":\n",
        "            delete_task()\n",
        "        elif choice == \"5\":\n",
        "            save_tasks()\n",
        "            print(\"Tasks saved. Exiting...\")\n",
        "            break\n",
        "        else:\n",
        "            print(\"Invalid option! Try again.\")\n",
        "\n",
        "# 🔁 Start\n",
        "task_manager()\n"
      ],
      "metadata": {
        "colab": {
          "base_uri": "https://localhost:8080/"
        },
        "id": "Uc8B-YrqJV9k",
        "outputId": "3119a525-463d-431c-ee77-a5ec24f536be"
      },
      "execution_count": 4,
      "outputs": [
        {
          "output_type": "stream",
          "name": "stdout",
          "text": [
            "\n",
            "--- DAILY TASK MANAGER ---\n",
            "1. Add Task\n",
            "2. View Tasks\n",
            "3. Mark Task as Completed\n",
            "4. Delete Task\n",
            "5. Exit\n",
            "Choose option: 1\n",
            "Enter task: study\n",
            "Task added!\n",
            "\n",
            "--- DAILY TASK MANAGER ---\n",
            "1. Add Task\n",
            "2. View Tasks\n",
            "3. Mark Task as Completed\n",
            "4. Delete Task\n",
            "5. Exit\n",
            "Choose option: 3\n",
            "1. study - Pending\n",
            "Enter task number to mark as completed: 1\n",
            "Task marked as completed!\n",
            "\n",
            "--- DAILY TASK MANAGER ---\n",
            "1. Add Task\n",
            "2. View Tasks\n",
            "3. Mark Task as Completed\n",
            "4. Delete Task\n",
            "5. Exit\n",
            "Choose option: 5\n",
            "Tasks saved. Exiting...\n"
          ]
        }
      ]
    },
    {
      "cell_type": "markdown",
      "source": [
        "Student grade using opp?\n"
      ],
      "metadata": {
        "id": "MaDGHxC_LghY"
      }
    },
    {
      "cell_type": "code",
      "source": [
        "class Student:\n",
        "    def __init__(self, name, marks):\n",
        "        self.name = name\n",
        "        self.marks = marks\n",
        "\n",
        "    def get_avg(self):\n",
        "        avg = sum(self.marks) / len(self.marks)\n",
        "        print(f\"Hi {self.name}, your average is: {avg:.2f}\")\n",
        "\n",
        "students = [\n",
        "    Student(\"Fiza\", [85, 90, 95]),\n",
        "    Student(\"Tanu\", [80, 85, 87]),\n",
        "]\n",
        "\n",
        "for s in students:\n",
        "    s.get_avg()\n"
      ],
      "metadata": {
        "colab": {
          "base_uri": "https://localhost:8080/"
        },
        "id": "0nwSPlBQLsJW",
        "outputId": "48d060c6-660b-4852-ba2a-8b2373219d7c"
      },
      "execution_count": 5,
      "outputs": [
        {
          "output_type": "stream",
          "name": "stdout",
          "text": [
            "Hi Fiza, your average is: 90.00\n",
            "Hi Tanu, your average is: 84.00\n"
          ]
        }
      ]
    },
    {
      "cell_type": "markdown",
      "source": [
        "personal expense tracker\n"
      ],
      "metadata": {
        "id": "JUeDI0Z1MQSc"
      }
    },
    {
      "cell_type": "code",
      "source": [
        "with open(\"expenses.txt\", \"w\") as f:\n",
        "    f.write(\"2025-07-28|Coffee|300\\n\")\n",
        "    f.write(\"2025-07-28|Groceries|1200\\n\")\n"
      ],
      "metadata": {
        "id": "5-peyjcGMTE4"
      },
      "execution_count": 6,
      "outputs": []
    },
    {
      "cell_type": "code",
      "source": [
        "class Expense:\n",
        "    def __init__(self, date, category, amount):\n",
        "        self.date = date\n",
        "        self.category = category\n",
        "        self.amount = amount\n",
        "\n",
        "    def __str__(self):\n",
        "        return f\"{self.date} | {self.category} | Rs. {self.amount}\"\n",
        "\n",
        "\n",
        "class ExpenseTracker:\n",
        "    def __init__(self):\n",
        "        self.expenses = []\n",
        "\n",
        "    def add_expense(self, date, category, amount):\n",
        "        expense = Expense(date, category, int(amount))\n",
        "        self.expenses.append(expense)\n",
        "\n",
        "    def view_expenses(self):\n",
        "        if not self.expenses:\n",
        "            print(\"No expenses recorded yet.\")\n",
        "            return\n",
        "        print(\"\\n📄 All Expenses:\")\n",
        "        for e in self.expenses:\n",
        "            print(e)\n",
        "\n",
        "    def total_expense(self):\n",
        "        total = sum(e.amount for e in self.expenses)\n",
        "        print(f\"\\n💰 Total Spent: Rs. {total}\")\n",
        "\n",
        "    def save_to_file(self, filename=\"expenses.txt\"):\n",
        "        with open(filename, \"w\") as f:\n",
        "            for e in self.expenses:\n",
        "                f.write(f\"{e.date}|{e.category}|{e.amount}\\n\")\n",
        "        print(\"✅ Data saved to file.\")\n",
        "\n",
        "    def load_from_file(self, filename=\"expenses.txt\"):\n",
        "        try:\n",
        "            with open(filename, \"r\") as f:\n",
        "                for line in f:\n",
        "                    date, cat, amt = line.strip().split(\"|\")\n",
        "                    self.add_expense(date, cat, int(amt))\n",
        "            print(\"📥 Data loaded from file.\")\n",
        "        except FileNotFoundError:\n",
        "            print(\"File not found, starting fresh.\")\n",
        "\n",
        "# ====================\n",
        "# 🏁 Program Execution\n",
        "# ====================\n",
        "tracker = ExpenseTracker()\n",
        "tracker.load_from_file()\n",
        "\n",
        "while True:\n",
        "    print(\"\\n📋 Menu:\\n1. Add Expense\\n2. View Expenses\\n3. Total\\n4. Save & Exit\")\n",
        "    choice = input(\"Enter your choice: \")\n",
        "\n",
        "    if choice == \"1\":\n",
        "        d = input(\"Enter date (YYYY-MM-DD): \")\n",
        "        c = input(\"Enter category: \")\n",
        "        a = input(\"Enter amount: \")\n",
        "        tracker.add_expense(d, c, a)\n",
        "\n",
        "    elif choice == \"2\":\n",
        "        tracker.view_expenses()\n",
        "\n",
        "    elif choice == \"3\":\n",
        "        tracker.total_expense()\n",
        "\n",
        "    elif choice == \"4\":\n",
        "        tracker.save_to_file()\n",
        "        print(\"👋 Goodbye!\")\n",
        "        break\n",
        "\n",
        "    else:\n",
        "        print(\"❌ Invalid choice. Try again.\")\n"
      ],
      "metadata": {
        "colab": {
          "base_uri": "https://localhost:8080/"
        },
        "id": "pWzHi6FlMU2k",
        "outputId": "312ab441-e741-4c9b-cc3e-b60d33b290a3"
      },
      "execution_count": 7,
      "outputs": [
        {
          "output_type": "stream",
          "name": "stdout",
          "text": [
            "📥 Data loaded from file.\n",
            "\n",
            "📋 Menu:\n",
            "1. Add Expense\n",
            "2. View Expenses\n",
            "3. Total\n",
            "4. Save & Exit\n",
            "Enter your choice: 1\n",
            "Enter date (YYYY-MM-DD): 22-12-3007\n",
            "Enter category: coffee\n",
            "Enter amount: 3000\n",
            "\n",
            "📋 Menu:\n",
            "1. Add Expense\n",
            "2. View Expenses\n",
            "3. Total\n",
            "4. Save & Exit\n",
            "Enter your choice: 3\n",
            "\n",
            "💰 Total Spent: Rs. 4500\n",
            "\n",
            "📋 Menu:\n",
            "1. Add Expense\n",
            "2. View Expenses\n",
            "3. Total\n",
            "4. Save & Exit\n",
            "Enter your choice: 2\n",
            "\n",
            "📄 All Expenses:\n",
            "2025-07-28 | Coffee | Rs. 300\n",
            "2025-07-28 | Groceries | Rs. 1200\n",
            "22-12-3007 | coffee | Rs. 3000\n",
            "\n",
            "📋 Menu:\n",
            "1. Add Expense\n",
            "2. View Expenses\n",
            "3. Total\n",
            "4. Save & Exit\n",
            "Enter your choice: 4\n",
            "✅ Data saved to file.\n",
            "👋 Goodbye!\n"
          ]
        }
      ]
    }
  ],
  "metadata": {
    "colab": {
      "provenance": []
    },
    "kernelspec": {
      "display_name": "Python 3",
      "name": "python3"
    },
    "language_info": {
      "name": "python"
    }
  },
  "nbformat": 4,
  "nbformat_minor": 0
}